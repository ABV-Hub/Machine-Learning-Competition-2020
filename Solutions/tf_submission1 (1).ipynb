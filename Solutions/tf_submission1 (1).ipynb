{
 "cells": [
  {
   "cell_type": "code",
   "execution_count": 1,
   "metadata": {},
   "outputs": [],
   "source": [
    "import pandas as pd\n",
    "import numpy as np\n",
    "\n",
    "from sklearn.ensemble import RandomForestRegressor, ExtraTreesRegressor\n",
    "from sklearn.pipeline import make_pipeline\n",
    "from tpot.builtins import StackingEstimator\n",
    "\n",
    "fn_train = r'train.csv'\n",
    "fn_test = r'test.csv'\n",
    "\n",
    "df_train = pd.read_csv(fn_train, na_values=-999.0)\n",
    "df_test = pd.read_csv(fn_test)"
   ]
  },
  {
   "cell_type": "code",
   "execution_count": 2,
   "metadata": {},
   "outputs": [],
   "source": [
    "# Separate train data based on target\n",
    "df_tr_dtc = df_train[df_train.DTC.notna()].copy().drop(columns=[\"DTS\"])\n",
    "df_tr_dts = df_train[df_train.DTS.notna()].copy().drop(columns=[\"DTC\"])"
   ]
  },
  {
   "cell_type": "code",
   "execution_count": 3,
   "metadata": {},
   "outputs": [],
   "source": [
    "# df with complete log for each DTC and DTS\n",
    "df_trc_dtc = df_tr_dtc.dropna()\n",
    "df_trc_dts = df_tr_dts.dropna()"
   ]
  },
  {
   "cell_type": "code",
   "execution_count": 4,
   "metadata": {},
   "outputs": [],
   "source": [
    "# Feature engineering\n",
    "def apply_fe_simple(df: pd.DataFrame) -> pd.DataFrame:\n",
    "    df_fe = df.copy()\n",
    "    df_fe[\"HRD_log10\"] = np.log10(df_fe.HRD)\n",
    "    df_fe[\"HRM_log10\"] = np.log10(df_fe.HRM)\n",
    "\n",
    "    return df_fe\n",
    "\n",
    "\n",
    "df_dtc_fe = apply_fe_simple(df_trc_dtc)\n",
    "df_dts_fe = apply_fe_simple(df_trc_dts)\n",
    "df_test_fe = apply_fe_simple(df_test)\n",
    "\n",
    "col_ins = df_test.columns.to_list()\n",
    "col_ins += [\"HRD_log10\", \"HRD_log10\"]\n"
   ]
  },
  {
   "cell_type": "code",
   "execution_count": 5,
   "metadata": {},
   "outputs": [],
   "source": [
    "# Obtained from TPOT using DTC data\n",
    "rgs_dtc = make_pipeline(\n",
    "    StackingEstimator(\n",
    "        estimator=\n",
    "        ExtraTreesRegressor(bootstrap=False, max_features=0.4,\n",
    "                            min_samples_leaf=1, min_samples_split=10,\n",
    "                            n_estimators=100, random_state=24, n_jobs=6)),\n",
    "    RandomForestRegressor(bootstrap=True, max_features=0.25, min_samples_leaf=2,\n",
    "                          min_samples_split=20, n_estimators=100, n_jobs=6,\n",
    "                          random_state=24)\n",
    ")\n"
   ]
  },
  {
   "cell_type": "code",
   "execution_count": 6,
   "metadata": {},
   "outputs": [],
   "source": [
    "# Obtained from TPOT using DTS data\n",
    "rgs_dts = RandomForestRegressor(bootstrap=True, max_features=0.4,\n",
    "                                min_samples_leaf=1, min_samples_split=6,\n",
    "                                n_estimators=100, random_state=24, n_jobs=6)\n"
   ]
  },
  {
   "cell_type": "code",
   "execution_count": 7,
   "metadata": {},
   "outputs": [
    {
     "data": {
      "text/plain": [
       "RandomForestRegressor(bootstrap=True, ccp_alpha=0.0, criterion='mse',\n",
       "                      max_depth=None, max_features=0.4, max_leaf_nodes=None,\n",
       "                      max_samples=None, min_impurity_decrease=0.0,\n",
       "                      min_impurity_split=None, min_samples_leaf=1,\n",
       "                      min_samples_split=6, min_weight_fraction_leaf=0.0,\n",
       "                      n_estimators=100, n_jobs=6, oob_score=False,\n",
       "                      random_state=24, verbose=0, warm_start=False)"
      ]
     },
     "execution_count": 7,
     "metadata": {},
     "output_type": "execute_result"
    }
   ],
   "source": [
    "# Model training\n",
    "X_dtc = df_dtc_fe[col_ins].values\n",
    "y_dtc = df_dtc_fe[\"DTC\"].values\n",
    "rgs_dtc.fit(X_dtc, y_dtc)\n",
    "\n",
    "X_dts = df_dts_fe[col_ins].values\n",
    "y_dts = df_dts_fe[\"DTS\"].values\n",
    "rgs_dts.fit(X_dts, y_dts)"
   ]
  },
  {
   "cell_type": "code",
   "execution_count": 8,
   "metadata": {},
   "outputs": [],
   "source": [
    "# Inference\n",
    "X_test = df_test_fe[col_ins].values\n",
    "df_test[\"DTC\"] = rgs_dtc.predict(X_test)\n",
    "df_test[\"DTS\"] = rgs_dts.predict(X_test)\n",
    "\n",
    "df_test[[\"DTC\", \"DTS\"]].to_csv(\"tf_submission_1.csv\", index=False)"
   ]
  },
  {
   "cell_type": "code",
   "execution_count": null,
   "metadata": {},
   "outputs": [],
   "source": []
  }
 ],
 "metadata": {
  "kernelspec": {
   "display_name": "Python 3",
   "language": "python",
   "name": "python3"
  },
  "language_info": {
   "codemirror_mode": {
    "name": "ipython",
    "version": 3
   },
   "file_extension": ".py",
   "mimetype": "text/x-python",
   "name": "python",
   "nbconvert_exporter": "python",
   "pygments_lexer": "ipython3",
   "version": "3.7.7"
  }
 },
 "nbformat": 4,
 "nbformat_minor": 2
}
